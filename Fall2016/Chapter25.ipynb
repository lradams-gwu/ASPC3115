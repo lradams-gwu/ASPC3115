{
 "cells": [
  {
   "cell_type": "markdown",
   "metadata": {},
   "source": [
    "## Testing hypotheses: essentials\n",
    "\n",
    "### Samples maximum from sampling without replacement\n",
    "\n",
    "$$\n",
    " X_k\\equiv\\text{The number you draw on the }k\\text{-th draw.} \\\\\n",
    " T_k\\equiv\\max(X_1,X_2, \\ldots, X_k)\n",
    "$$\n",
    "\n",
    "And\n",
    "\n",
    "$$\n",
    "P(T_k\\leq i)=\\frac{i-(k-1)}{N-\\text{(}k-1)}\\cdot\\ldots\\cdot\\frac{i-2}{N-2} \\frac{i-1}{N-1}\\cdot\\frac{i}{N}\n",
    "$$"
   ]
  },
  {
   "cell_type": "code",
   "execution_count": 49,
   "metadata": {
    "collapsed": false
   },
   "outputs": [],
   "source": [
    "import numpy as np\n",
    "import scipy.interpolate as interpolate\n",
    "import matplotlib as mpl\n",
    "import matplotlib.pyplot as plt\n",
    "import seaborn as sns"
   ]
  },
  {
   "cell_type": "code",
   "execution_count": 50,
   "metadata": {
    "collapsed": true
   },
   "outputs": [],
   "source": [
    "#mpl.rc('lines', linewidth=2, color='r')\n",
    "%matplotlib inline\n",
    "mpl.rcParams['figure.figsize'] = (10, 6)\n",
    "#sns.set_context('paper', font_scale=1.5)"
   ]
  },
  {
   "cell_type": "code",
   "execution_count": 51,
   "metadata": {
    "collapsed": true
   },
   "outputs": [],
   "source": [
    "data = [61, 19, 56, 24, 16]"
   ]
  },
  {
   "cell_type": "code",
   "execution_count": 52,
   "metadata": {
    "collapsed": false
   },
   "outputs": [
    {
     "data": {
      "text/plain": [
       "61"
      ]
     },
     "execution_count": 52,
     "metadata": {},
     "output_type": "execute_result"
    }
   ],
   "source": [
    "# Observed maximum\n",
    "max(data)"
   ]
  },
  {
   "cell_type": "code",
   "execution_count": 53,
   "metadata": {
    "collapsed": true
   },
   "outputs": [],
   "source": [
    "def prob_max_sampling_wo_replacement(N, i, k=5):\n",
    "    return (i - (k-1))/(N - (k-1)) * (i - (k-2))/(N - (k-2)) * (i - (k-3))/(N - (k-3)) * (i - (k-4))/(N - (k-4)) * (i - (k-5))/(N - (k-5))"
   ]
  },
  {
   "cell_type": "code",
   "execution_count": 54,
   "metadata": {
    "collapsed": false
   },
   "outputs": [
    {
     "data": {
      "text/plain": [
       "0.00013988065505765124"
      ]
     },
     "execution_count": 54,
     "metadata": {},
     "output_type": "execute_result"
    }
   ],
   "source": [
    "prob_max_sampling_wo_replacement(350, 61)"
   ]
  },
  {
   "cell_type": "code",
   "execution_count": 55,
   "metadata": {
    "collapsed": false
   },
   "outputs": [
    {
     "data": {
      "text/plain": [
       "0.24746851250015806"
      ]
     },
     "execution_count": 55,
     "metadata": {},
     "output_type": "execute_result"
    }
   ],
   "source": [
    "prob_max_sampling_wo_replacement(N=80, i=61)"
   ]
  },
  {
   "cell_type": "code",
   "execution_count": 56,
   "metadata": {
    "collapsed": false
   },
   "outputs": [
    {
     "data": {
      "text/plain": [
       "array([  61.        ,   76.21052632,   91.42105263,  106.63157895,\n",
       "        121.84210526,  137.05263158,  152.26315789,  167.47368421,\n",
       "        182.68421053,  197.89473684,  213.10526316,  228.31578947,\n",
       "        243.52631579,  258.73684211,  273.94736842,  289.15789474,\n",
       "        304.36842105,  319.57894737,  334.78947368,  350.        ])"
      ]
     },
     "execution_count": 56,
     "metadata": {},
     "output_type": "execute_result"
    }
   ],
   "source": [
    "t = np.linspace(start=61, stop=350, num=20)\n",
    "t"
   ]
  },
  {
   "cell_type": "code",
   "execution_count": 57,
   "metadata": {
    "collapsed": false
   },
   "outputs": [
    {
     "data": {
      "text/plain": [
       "array([  1.39880655e-04,   4.40610509e-04,   1.11956413e-03,\n",
       "         2.45605013e-03,   4.84192042e-03,   8.80071385e-03,\n",
       "         1.50067998e-02,   2.43045220e-02,   3.77273417e-02,\n",
       "         5.65169819e-02,   8.21425705e-02,   1.16319784e-01,\n",
       "         1.61029991e-01,   2.18539397e-01,   2.91418187e-01,\n",
       "         3.82559667e-01,   4.95199412e-01,   6.32934407e-01,\n",
       "         7.99742191e-01,   1.00000000e+00])"
      ]
     },
     "execution_count": 57,
     "metadata": {},
     "output_type": "execute_result"
    }
   ],
   "source": [
    "# Probability of committing type I error with null hypotheses N = 350\n",
    "type_1_N350 = prob_max_sampling_wo_replacement(N=350, i=t)\n",
    "type_1_N350"
   ]
  },
  {
   "cell_type": "code",
   "execution_count": 72,
   "metadata": {
    "collapsed": false
   },
   "outputs": [
    {
     "data": {
      "text/plain": [
       "<matplotlib.text.Text at 0x7fca36b2c7b8>"
      ]
     },
     "execution_count": 72,
     "metadata": {},
     "output_type": "execute_result"
    },
    {
     "data": {
      "image/png": "[encoded data removed]",
      "text/plain": [
       "<matplotlib.figure.Figure at 0x7fca36bc3b38>"
      ]
     },
     "metadata": {},
     "output_type": "display_data"
    }
   ],
   "source": [
    "# plot of type I error for test statistics up to 350\n",
    "\n",
    "#plt.figure(figsize=(12, 8))\n",
    "fig1 = plt.figure(1)\n",
    "ax1 = fig1.add_subplot(111)\n",
    "ax1.plot(t, type_1_N350)\n",
    "ax1.set_xlabel('t')\n",
    "ax1.set_ylabel('Type I error: P(T < t|H0 is true)')\n",
    "ax1.set_title('H0: N=350')\n"
   ]
  },
  {
   "cell_type": "code",
   "execution_count": 59,
   "metadata": {
    "collapsed": false
   },
   "outputs": [],
   "source": [
    "# Set up interpolation of the inverse function for the Probability of committing type I error.\n",
    "x = np.linspace(start=61, stop=350, num=1000)\n",
    "y = prob_max_sampling_wo_replacement(N=350, i=x)\n",
    "inv = interpolate.interp1d(y, x)"
   ]
  },
  {
   "cell_type": "code",
   "execution_count": 60,
   "metadata": {
    "collapsed": false
   },
   "outputs": [
    {
     "data": {
      "text/plain": [
       "array(254.22516219566867)"
      ]
     },
     "execution_count": 60,
     "metadata": {},
     "output_type": "execute_result"
    }
   ],
   "source": [
    "inv(0.2)"
   ]
  },
  {
   "cell_type": "code",
   "execution_count": 61,
   "metadata": {
    "collapsed": false
   },
   "outputs": [
    {
     "data": {
      "text/plain": [
       "array(350.0)"
      ]
     },
     "execution_count": 61,
     "metadata": {},
     "output_type": "execute_result"
    }
   ],
   "source": [
    "inv(1)"
   ]
  },
  {
   "cell_type": "markdown",
   "metadata": {},
   "source": [
    "Suppose we set $\\alpha = 0.05$. At what threshold value $t_5 = \\text{max} (x_1, x_2, x_3, x_4, x_5)$ would we just reject $H_0: N=350$ in favor of $H_1: N < 350$?"
   ]
  },
  {
   "cell_type": "code",
   "execution_count": 62,
   "metadata": {
    "collapsed": false
   },
   "outputs": [
    {
     "data": {
      "text/plain": [
       "array(193.1530584407293)"
      ]
     },
     "execution_count": 62,
     "metadata": {},
     "output_type": "execute_result"
    }
   ],
   "source": [
    "#threshold\n",
    "inv(0.05)"
   ]
  },
  {
   "cell_type": "markdown",
   "metadata": {},
   "source": [
    "$$\n",
    "P(T_5 \\leq 193| N= 350) \\approx 0.05 \\Rightarrow \\text{ Critical Value } = 193\n",
    "$$"
   ]
  },
  {
   "cell_type": "code",
   "execution_count": 63,
   "metadata": {
    "collapsed": true
   },
   "outputs": [],
   "source": [
    "# Probability of committing type I error with null hypotheses N = 80\n",
    "t2 = np.linspace(start=20, stop=80, num=20)\n",
    "type_1_N80 = prob_max_sampling_wo_replacement(N=80, i=t2)"
   ]
  },
  {
   "cell_type": "code",
   "execution_count": 73,
   "metadata": {
    "collapsed": false
   },
   "outputs": [
    {
     "data": {
      "text/plain": [
       "<matplotlib.text.Text at 0x7fca365eee48>"
      ]
     },
     "execution_count": 73,
     "metadata": {},
     "output_type": "execute_result"
    },
    {
     "data": {
      "image/png": "[encoded data removed]",
      "text/plain": [
       "<matplotlib.figure.Figure at 0x7fca36b59fd0>"
      ]
     },
     "metadata": {},
     "output_type": "display_data"
    }
   ],
   "source": [
    "# plot of type I error for test statistics up to 80\n",
    "\n",
    "fig2 = plt.figure(2)\n",
    "ax2 = fig2.add_subplot(111)\n",
    "ax2.plot(t2, type_1_N80)\n",
    "ax2.set_xlabel('t')\n",
    "ax2.set_ylabel('Type I error: P(T < t|H0 is true)')\n",
    "ax2.set_title('H0: N=80')"
   ]
  },
  {
   "cell_type": "code",
   "execution_count": 65,
   "metadata": {
    "collapsed": true
   },
   "outputs": [],
   "source": [
    "# Set up interpolation of the inverse function for the Probability of committing type I error.\n",
    "x2 = np.linspace(start=20, stop=80, num=1000)\n",
    "y2 = prob_max_sampling_wo_replacement(N=80, i=x2)\n",
    "inv2 = interpolate.interp1d(y2, x2)"
   ]
  },
  {
   "cell_type": "markdown",
   "metadata": {},
   "source": [
    "Suppose we set $\\alpha = 0.05$. At what threshold value $t_5 = \\text{max} (x_1, x_2, x_3, x_4, x_5)$ would we just reject $H_0: N=80$ in favor of $H_1: N < 80$?"
   ]
  },
  {
   "cell_type": "code",
   "execution_count": 66,
   "metadata": {
    "collapsed": false
   },
   "outputs": [
    {
     "data": {
      "text/plain": [
       "array(44.86015252734399)"
      ]
     },
     "execution_count": 66,
     "metadata": {},
     "output_type": "execute_result"
    }
   ],
   "source": [
    "# threshold\n",
    "inv2(0.05)"
   ]
  },
  {
   "cell_type": "markdown",
   "metadata": {},
   "source": [
    "$$\n",
    "P(T_5 \\leq 44.8| N= 80) \\approx 0.05 \\Rightarrow \\text{ Critical Value } = 44.8\n",
    "$$"
   ]
  },
  {
   "cell_type": "markdown",
   "metadata": {},
   "source": [
    "## Type II Errors\n",
    "\n",
    "### Samples maximum from sampling without replacement\n",
    "\n",
    "$$\n",
    " X_k\\equiv\\text{The number you draw on the }k\\text{-th draw.} \\\\\n",
    " T_k\\equiv\\max(X_1,X_2, \\ldots, X_k)\n",
    "$$\n",
    "\n",
    "And\n",
    "\n",
    "$$\n",
    "P(T_k\\leq i)=\\frac{i-(k-1)}{N-\\text{(}k-1)}\\cdot\\ldots\\cdot\\frac{i-2}{N-2} \\frac{i-1}{N-1}\\cdot\\frac{i}{N}\n",
    "$$\n",
    "\n",
    "Then\n",
    "\n",
    "$$\n",
    "P(T_k \\geq i) = 1 - P(T_k\\leq i)\n",
    "$$"
   ]
  },
  {
   "cell_type": "code",
   "execution_count": 67,
   "metadata": {
    "collapsed": true
   },
   "outputs": [],
   "source": [
    "def typeII_error(N, i, k=5):\n",
    "    return 1 - prob_max_sampling_wo_replacement(N, i, k=5)"
   ]
  },
  {
   "cell_type": "code",
   "execution_count": 68,
   "metadata": {
    "collapsed": true
   },
   "outputs": [],
   "source": [
    "N = np.linspace(start=193, stop=400, num=100)"
   ]
  },
  {
   "cell_type": "code",
   "execution_count": 69,
   "metadata": {
    "collapsed": false
   },
   "outputs": [],
   "source": [
    "typeII = typeII_error(N, i=193, k=5)"
   ]
  },
  {
   "cell_type": "code",
   "execution_count": 75,
   "metadata": {
    "collapsed": false
   },
   "outputs": [
    {
     "data": {
      "text/plain": [
       "<matplotlib.text.Text at 0x7fca363dee48>"
      ]
     },
     "execution_count": 75,
     "metadata": {},
     "output_type": "execute_result"
    },
    {
     "data": {
      "image/png": "[encoded data removed]",
      "text/plain": [
       "<matplotlib.figure.Figure at 0x7fca36426cf8>"
      ]
     },
     "metadata": {},
     "output_type": "display_data"
    }
   ],
   "source": [
    "# plot of type II error for threshold value t5 = 193.\n",
    "\n",
    "fig3 = plt.figure(3)\n",
    "ax3 = fig3.add_subplot(111)\n",
    "ax3.plot(N, typeII)\n",
    "ax3.set_xlabel('n')\n",
    "ax3.set_ylabel('Type II error: P(T > 193|H0 is false)')\n",
    "ax3.set_title('H1: N != 350')"
   ]
  },
  {
   "cell_type": "code",
   "execution_count": 71,
   "metadata": {
    "collapsed": false
   },
   "outputs": [],
   "source": [
    "#typeII_error(350, i=193, k=5)"
   ]
  },
  {
   "cell_type": "code",
   "execution_count": 79,
   "metadata": {
    "collapsed": false
   },
   "outputs": [],
   "source": [
    "# Save the type II error figure - uncomment to update file\n",
    "#fig3.savefig('typeII.png', dpi=180)"
   ]
  },
  {
   "cell_type": "code",
   "execution_count": null,
   "metadata": {
    "collapsed": true
   },
   "outputs": [],
   "source": []
  }
 ],
 "metadata": {
  "anaconda-cloud": {},
  "kernelspec": {
   "display_name": "Python [conda env:py3]",
   "language": "python",
   "name": "conda-env-py3-py"
  },
  "language_info": {
   "codemirror_mode": {
    "name": "ipython",
    "version": 3
   },
   "file_extension": ".py",
   "mimetype": "text/x-python",
   "name": "python",
   "nbconvert_exporter": "python",
   "pygments_lexer": "ipython3",
   "version": "3.5.2"
  }
 },
 "nbformat": 4,
 "nbformat_minor": 0
}
