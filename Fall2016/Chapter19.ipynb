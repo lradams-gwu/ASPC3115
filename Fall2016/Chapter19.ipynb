{
 "cells": [
  {
   "cell_type": "code",
   "execution_count": 3,
   "metadata": {
    "collapsed": true
   },
   "outputs": [],
   "source": [
    "import numpy as np\n",
    "import scipy as sp\n",
    "import seaborn as sns"
   ]
  },
  {
   "cell_type": "code",
   "execution_count": 4,
   "metadata": {
    "collapsed": true
   },
   "outputs": [],
   "source": [
    "from scipy.stats import poisson"
   ]
  },
  {
   "cell_type": "code",
   "execution_count": 5,
   "metadata": {
    "collapsed": true
   },
   "outputs": [],
   "source": [
    "from matplotlib import pyplot as plt\n",
    "%matplotlib inline"
   ]
  },
  {
   "cell_type": "markdown",
   "metadata": {},
   "source": [
    "## Call Center Example\n",
    "\n",
    "Suppose we have recorded the number of arrivals \\alert{in each hour} for 30 hours. The dataset is modeled as a realization of a random $i.i.d.$ sample $(X_1,X_2,\\ldots,X_n)$ of size $n=30\\,$from a $Pois(\\mu)$ distribution.\n",
    "\n",
    "\n",
    "### Estimation Task:\n",
    "\n",
    "\n",
    "$$\n",
    "p_0\\text{ }=P(X=0),\\,X\\sim Pois(\\mu)\n",
    "$$\n",
    "\n",
    "using the following two possible estimators:\n",
    "\n",
    "$$\n",
    "S=\\frac{\\text{number of }X_i\\text{ equal to zero}}{n} \\quad \\text{and} \\quad T=e^{-\\bar{X}_n},\\,\\bar{x}_n=\\frac{1}{n}\\sum_{i=1}^n X_i\n",
    "$$\n",
    "\n",
    "* Estimator S can only attain the values $0,1/30,2/30,\\ldots,1$\n",
    "* Estimator $T$ only attain the values 1, $exp(-1/30),exp(-2/30),\\ldots$\n",
    "\n",
    "### Simulation settings\n",
    "\n",
    "* To get an idea of the behavior of both estimators, we pretend we know $\\mu$ and we simulate the estimation processs.\n",
    "* Setting $p_0=e^{-\\mu}=0.1$ we sample $(x_1,\\ldots,x_{30})$ from $X\\sim Pois(\\mu)$ with $\\mu=\\ln 10 \\approx 2.3$ and compute realization $s$ and $t$ for estimators $S$ and $T$. We repeat this 1000 times, so that we have 1000 values for each estimator of $p_0=0.10$.\n",
    "\n"
   ]
  },
  {
   "cell_type": "code",
   "execution_count": 6,
   "metadata": {
    "collapsed": true
   },
   "outputs": [],
   "source": [
    "n = 30\n",
    "nsim = 1000"
   ]
  },
  {
   "cell_type": "code",
   "execution_count": 7,
   "metadata": {
    "collapsed": false
   },
   "outputs": [
    {
     "name": "stdout",
     "output_type": "stream",
     "text": [
      "mu = 2.30\n",
      "p_0 = e^(-mu) = 0.10\n"
     ]
    }
   ],
   "source": [
    "mu = np.log(10)\n",
    "print('mu = {0:.2f}'.format(mu))\n",
    "print('p_0 = e^(-mu) = {0:.2f}'.format( np.exp(-mu)))"
   ]
  },
  {
   "cell_type": "code",
   "execution_count": 8,
   "metadata": {
    "collapsed": false
   },
   "outputs": [
    {
     "name": "stdout",
     "output_type": "stream",
     "text": [
      "[1 3 3 5 3 3 9 3 1 1 3 2 4 1 2 5 3 2 3 2 3 4 1 3 5 0 2 5 1 2]\n"
     ]
    }
   ],
   "source": [
    "sample = sp.stats.poisson.rvs(mu=mu, size=n)\n",
    "print(sample)"
   ]
  },
  {
   "cell_type": "code",
   "execution_count": 9,
   "metadata": {
    "collapsed": false
   },
   "outputs": [
    {
     "data": {
      "text/plain": [
       "1"
      ]
     },
     "execution_count": 9,
     "metadata": {},
     "output_type": "execute_result"
    }
   ],
   "source": [
    "(sample == 0).sum()"
   ]
  },
  {
   "cell_type": "code",
   "execution_count": 10,
   "metadata": {
    "collapsed": false
   },
   "outputs": [
    {
     "name": "stdout",
     "output_type": "stream",
     "text": [
      "[[2 2 2 ..., 0 0 1]\n",
      " [1 3 2 ..., 0 3 0]\n",
      " [3 6 2 ..., 3 3 1]\n",
      " ..., \n",
      " [2 3 1 ..., 1 2 0]\n",
      " [1 2 1 ..., 0 2 4]\n",
      " [0 1 1 ..., 1 3 2]]\n"
     ]
    }
   ],
   "source": [
    "sim = sp.stats.poisson.rvs(mu=mu, size=(nsim,n))\n",
    "print(sim)"
   ]
  },
  {
   "cell_type": "code",
   "execution_count": 12,
   "metadata": {
    "collapsed": false
   },
   "outputs": [],
   "source": [
    "S = ( (sim == 0).sum(axis=1) ).astype(float) / n\n",
    "#print(S)"
   ]
  },
  {
   "cell_type": "code",
   "execution_count": 42,
   "metadata": {
    "collapsed": false
   },
   "outputs": [
    {
     "data": {
      "text/plain": [
       "<matplotlib.text.Text at 0x7f481d424cc0>"
      ]
     },
     "execution_count": 42,
     "metadata": {},
     "output_type": "execute_result"
    },
    {
     "data": {
      "image/png": "[encoded data removed]",
      "text/plain": [
       "<matplotlib.figure.Figure at 0x7f481d4079e8>"
      ]
     },
     "metadata": {},
     "output_type": "display_data"
    }
   ],
   "source": [
    "plt.hist(S, color='gray')\n",
    "plt.axis([0, 0.35, 0, 250])\n",
    "plt.xlabel('S')\n",
    "plt.ylabel('Frequency')"
   ]
  },
  {
   "cell_type": "code",
   "execution_count": 43,
   "metadata": {
    "collapsed": true
   },
   "outputs": [],
   "source": [
    "T = np.exp(-1.0* sim.mean(axis=1) )\n",
    "#print(T)"
   ]
  },
  {
   "cell_type": "code",
   "execution_count": 44,
   "metadata": {
    "collapsed": false
   },
   "outputs": [
    {
     "data": {
      "text/plain": [
       "<matplotlib.text.Text at 0x7f481d57d400>"
      ]
     },
     "execution_count": 44,
     "metadata": {},
     "output_type": "execute_result"
    },
    {
     "data": {
      "image/png": "[encoded data removed]",
      "text/plain": [
       "<matplotlib.figure.Figure at 0x7f481d40d898>"
      ]
     },
     "metadata": {},
     "output_type": "display_data"
    }
   ],
   "source": [
    "plt.hist(T, color='gray')\n",
    "plt.axis([0, 0.35, 0, 250])\n",
    "plt.xlabel('T')\n",
    "plt.ylabel('Frequency')"
   ]
  },
  {
   "cell_type": "code",
   "execution_count": 16,
   "metadata": {
    "collapsed": false
   },
   "outputs": [],
   "source": [
    "X_bar = sim.mean(axis=1)"
   ]
  },
  {
   "cell_type": "code",
   "execution_count": 18,
   "metadata": {
    "collapsed": false
   },
   "outputs": [
    {
     "data": {
      "text/plain": [
       "[0, 5, 0, 300]"
      ]
     },
     "execution_count": 18,
     "metadata": {},
     "output_type": "execute_result"
    },
    {
     "data": {
      "image/png": "[encoded data removed]",
      "text/plain": [
       "<matplotlib.figure.Figure at 0x7f481d825898>"
      ]
     },
     "metadata": {},
     "output_type": "display_data"
    }
   ],
   "source": [
    "plt.hist(X_bar, color='gray')\n",
    "plt.xlabel('Xbar')\n",
    "plt.ylabel('Frequency')\n",
    "plt.axis([0, 5, 0, 300])"
   ]
  },
  {
   "cell_type": "code",
   "execution_count": 19,
   "metadata": {
    "collapsed": false
   },
   "outputs": [],
   "source": [
    "S_n_squared = (((sim.T - X_bar).T)**2).sum(axis=1) / (n - 1)"
   ]
  },
  {
   "cell_type": "code",
   "execution_count": 45,
   "metadata": {
    "collapsed": false
   },
   "outputs": [
    {
     "data": {
      "text/plain": [
       "<matplotlib.text.Text at 0x7f481d7939e8>"
      ]
     },
     "execution_count": 45,
     "metadata": {},
     "output_type": "execute_result"
    },
    {
     "data": {
      "image/png": "[encoded data removed]",
      "text/plain": [
       "<matplotlib.figure.Figure at 0x7f481d7c4710>"
      ]
     },
     "metadata": {},
     "output_type": "display_data"
    }
   ],
   "source": [
    "plt.hist(S_n_squared, color='gray')\n",
    "plt.axis([0, 5, 0, 500])\n",
    "plt.xlabel('Sn squared')\n",
    "plt.ylabel('Frequency')"
   ]
  },
  {
   "cell_type": "code",
   "execution_count": 22,
   "metadata": {
    "collapsed": false
   },
   "outputs": [
    {
     "data": {
      "text/plain": [
       "0.0008710804319921031"
      ]
     },
     "execution_count": 22,
     "metadata": {},
     "output_type": "execute_result"
    }
   ],
   "source": [
    "((T - np.exp(-1*mu))**2).mean()"
   ]
  },
  {
   "cell_type": "code",
   "execution_count": 23,
   "metadata": {
    "collapsed": false
   },
   "outputs": [],
   "source": [
    "def generate_simulation(mu):\n",
    "    return sp.stats.poisson.rvs(mu=mu, size=(nsim,n))"
   ]
  },
  {
   "cell_type": "code",
   "execution_count": 24,
   "metadata": {
    "collapsed": true
   },
   "outputs": [],
   "source": [
    "def compute_T(sim):\n",
    "    return np.exp(-1.0*sim.mean(axis=1))"
   ]
  },
  {
   "cell_type": "code",
   "execution_count": 25,
   "metadata": {
    "collapsed": true
   },
   "outputs": [],
   "source": [
    "def mse(estimator, parameter):\n",
    "    return ((estimator - parameter)**2).mean()"
   ]
  },
  {
   "cell_type": "code",
   "execution_count": 26,
   "metadata": {
    "collapsed": true
   },
   "outputs": [],
   "source": [
    "def compute_parameter(mu):\n",
    "    return np.exp(-1.0*mu)"
   ]
  },
  {
   "cell_type": "code",
   "execution_count": 27,
   "metadata": {
    "collapsed": false
   },
   "outputs": [
    {
     "name": "stdout",
     "output_type": "stream",
     "text": [
      "[ 0.1    0.345  0.59   0.835  1.08   1.325  1.57   1.815  2.06   2.305\n",
      "  2.55   2.795  3.04   3.285  3.53   3.775  4.02   4.265  4.51   4.755  5.   ]\n"
     ]
    }
   ],
   "source": [
    "mu_array = np.linspace(0.1, 5, 21)\n",
    "print(mu_array)"
   ]
  },
  {
   "cell_type": "code",
   "execution_count": 30,
   "metadata": {
    "collapsed": false,
    "scrolled": true
   },
   "outputs": [],
   "source": [
    "#[generate_simulation(mu).mean(axis=1) for mu in mu_array]"
   ]
  },
  {
   "cell_type": "code",
   "execution_count": 31,
   "metadata": {
    "collapsed": true
   },
   "outputs": [],
   "source": [
    "T = np.exp(-1.0* sim.mean(axis=1) )"
   ]
  },
  {
   "cell_type": "code",
   "execution_count": 32,
   "metadata": {
    "collapsed": false
   },
   "outputs": [],
   "source": [
    "simulations = np.array( [generate_simulation(mu) for mu in mu_array])"
   ]
  },
  {
   "cell_type": "code",
   "execution_count": 33,
   "metadata": {
    "collapsed": true
   },
   "outputs": [],
   "source": [
    "parameters = compute_parameter(mu_array)"
   ]
  },
  {
   "cell_type": "code",
   "execution_count": 34,
   "metadata": {
    "collapsed": false
   },
   "outputs": [],
   "source": [
    "T_estimator = compute_T(simulations)"
   ]
  },
  {
   "cell_type": "code",
   "execution_count": 35,
   "metadata": {
    "collapsed": false
   },
   "outputs": [
    {
     "name": "stdout",
     "output_type": "stream",
     "text": [
      "(21, 30)\n"
     ]
    }
   ],
   "source": [
    "print(T_estimator.shape)"
   ]
  },
  {
   "cell_type": "code",
   "execution_count": 36,
   "metadata": {
    "collapsed": false
   },
   "outputs": [
    {
     "name": "stdout",
     "output_type": "stream",
     "text": [
      "(21,)\n"
     ]
    }
   ],
   "source": [
    "print(parameters.shape)"
   ]
  },
  {
   "cell_type": "code",
   "execution_count": 37,
   "metadata": {
    "collapsed": false
   },
   "outputs": [
    {
     "name": "stdout",
     "output_type": "stream",
     "text": [
      "[ 0.90212697  0.8976276   0.91028276  0.90937293  0.90302955  0.91301771\n",
      "  0.90032452  0.8976276   0.89583414  0.89493875  0.91943126  0.90846402\n",
      "  0.90212697  0.89852567  0.9012253   0.90574271  0.89047522  0.89852567\n",
      "  0.9111935   0.89942465  0.89404426  0.89583414  0.90393303  0.89942465\n",
      "  0.92127196  0.91576088  0.90393303  0.89404426  0.90302955  0.89225796]\n"
     ]
    }
   ],
   "source": [
    "print(T_estimator[0])"
   ]
  },
  {
   "cell_type": "code",
   "execution_count": 38,
   "metadata": {
    "collapsed": false
   },
   "outputs": [
    {
     "name": "stdout",
     "output_type": "stream",
     "text": [
      "0.904837418036\n"
     ]
    }
   ],
   "source": [
    "print(parameters[0])"
   ]
  },
  {
   "cell_type": "code",
   "execution_count": 39,
   "metadata": {
    "collapsed": false
   },
   "outputs": [
    {
     "name": "stdout",
     "output_type": "stream",
     "text": [
      "4.2682158535e-05\n"
     ]
    }
   ],
   "source": [
    "print(((T_estimator.T - parameters)**2).mean())"
   ]
  },
  {
   "cell_type": "code",
   "execution_count": 40,
   "metadata": {
    "collapsed": false
   },
   "outputs": [],
   "source": [
    "MSE_T = (((T_estimator.T - parameters).T)**2).mean(axis=1)"
   ]
  },
  {
   "cell_type": "code",
   "execution_count": 41,
   "metadata": {
    "collapsed": false
   },
   "outputs": [
    {
     "data": {
      "text/plain": [
       "[<matplotlib.lines.Line2D at 0x7f481d3e77b8>]"
      ]
     },
     "execution_count": 41,
     "metadata": {},
     "output_type": "execute_result"
    },
    {
     "data": {
      "image/png": "[encoded data removed]",
      "text/plain": [
       "<matplotlib.figure.Figure at 0x7f481d3e7438>"
      ]
     },
     "metadata": {},
     "output_type": "display_data"
    }
   ],
   "source": [
    "plt.plot(mu_array, MSE_T, 'bo')\n",
    "plt.plot(mu_array, MSE_T, 'b-')"
   ]
  },
  {
   "cell_type": "code",
   "execution_count": null,
   "metadata": {
    "collapsed": true
   },
   "outputs": [],
   "source": []
  }
 ],
 "metadata": {
  "kernelspec": {
   "display_name": "Python 3",
   "language": "python",
   "name": "python3"
  },
  "language_info": {
   "codemirror_mode": {
    "name": "ipython",
    "version": 3
   },
   "file_extension": ".py",
   "mimetype": "text/x-python",
   "name": "python",
   "nbconvert_exporter": "python",
   "pygments_lexer": "ipython3",
   "version": "3.5.2"
  }
 },
 "nbformat": 4,
 "nbformat_minor": 0
}
