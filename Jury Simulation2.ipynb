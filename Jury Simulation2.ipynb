{
 "cells": [
  {
   "cell_type": "markdown",
   "metadata": {},
   "source": [
    "# Comparing two jury rules simulation from Dekking 2005 - Question 6.11\n",
    "\n",
    "Leon R. Adams\n",
    "\n",
    "The simulation below is used to carry out the comparison of the two jury rules as found in Dekking 2005, Section 6.3. The challenge is to use a probabalistic model to choose between two competing scoring methodologies. Question 6.11 request that we reconsider the scenario by considering a third rule.  The International Skating Union decided to adopt a rule similiar to the following: randomly discard two of the jury scores, then average the remaining score. Describe how to investigate this rule.\n",
    "\n",
    "\n"
   ]
  },
  {
   "cell_type": "code",
   "execution_count": 1,
   "metadata": {
    "collapsed": false
   },
   "outputs": [],
   "source": [
    "%matplotlib inline"
   ]
  },
  {
   "cell_type": "code",
   "execution_count": 2,
   "metadata": {
    "collapsed": true
   },
   "outputs": [],
   "source": [
    "import numpy as np\n",
    "from matplotlib import pyplot as plt"
   ]
  },
  {
   "cell_type": "code",
   "execution_count": 3,
   "metadata": {
    "collapsed": true
   },
   "outputs": [],
   "source": [
    "#np.random.seed(123)"
   ]
  },
  {
   "cell_type": "markdown",
   "metadata": {},
   "source": [
    "## Generating random scores\n",
    "\n",
    "We will begin the analysis by constructing a model that will simulate the jury scoring of seven (7) judges. "
   ]
  },
  {
   "cell_type": "markdown",
   "metadata": {},
   "source": [
    "We generate 7 realizations from the uniform distribution from $U(0,1)$. "
   ]
  },
  {
   "cell_type": "code",
   "execution_count": 4,
   "metadata": {
    "collapsed": true
   },
   "outputs": [],
   "source": [
    "Uniform_01 = np.random.rand(7)"
   ]
  },
  {
   "cell_type": "code",
   "execution_count": 5,
   "metadata": {
    "collapsed": false
   },
   "outputs": [
    {
     "name": "stdout",
     "output_type": "stream",
     "text": [
      "[ 0.41730422  0.17299151  0.24462891  0.1198692   0.77078464  0.57096531\n",
      "  0.13169182]\n"
     ]
    }
   ],
   "source": [
    "print(Uniform_01)"
   ]
  },
  {
   "cell_type": "markdown",
   "metadata": {},
   "source": [
    "To generate realizations from $Z \\sim U(-0.5, 0.5)$ uniform distribution, we subtract 0.5 from Uniform_01."
   ]
  },
  {
   "cell_type": "code",
   "execution_count": 6,
   "metadata": {
    "collapsed": true
   },
   "outputs": [],
   "source": [
    "Z = Uniform_01 - 0.5"
   ]
  },
  {
   "cell_type": "code",
   "execution_count": 7,
   "metadata": {
    "collapsed": false
   },
   "outputs": [
    {
     "name": "stdout",
     "output_type": "stream",
     "text": [
      "[-0.08269578 -0.32700849 -0.25537109 -0.3801308   0.27078464  0.07096531\n",
      " -0.36830818]\n"
     ]
    }
   ],
   "source": [
    "print(Z)"
   ]
  },
  {
   "cell_type": "markdown",
   "metadata": {},
   "source": [
    "Deterministic part of jury score, set to be 8."
   ]
  },
  {
   "cell_type": "code",
   "execution_count": 8,
   "metadata": {
    "collapsed": true
   },
   "outputs": [],
   "source": [
    "g = 8"
   ]
  },
  {
   "cell_type": "markdown",
   "metadata": {},
   "source": [
    "Simulate stochastic behavior by adding noise to deterministic score."
   ]
  },
  {
   "cell_type": "code",
   "execution_count": 9,
   "metadata": {
    "collapsed": true
   },
   "outputs": [],
   "source": [
    "Y = g + Z"
   ]
  },
  {
   "cell_type": "code",
   "execution_count": 10,
   "metadata": {
    "collapsed": false
   },
   "outputs": [
    {
     "name": "stdout",
     "output_type": "stream",
     "text": [
      "[ 7.91730422  7.67299151  7.74462891  7.6198692   8.27078464  8.07096531\n",
      "  7.63169182]\n"
     ]
    }
   ],
   "source": [
    "print(Y)"
   ]
  },
  {
   "cell_type": "markdown",
   "metadata": {},
   "source": [
    "So, Y represents a simulated jury, with scores that have some deviations away from the true score."
   ]
  },
  {
   "cell_type": "markdown",
   "metadata": {},
   "source": [
    "## Model jury rules\n",
    "\n",
    "We will know create models the two selection rules, where the first selection rule (h1) says:\n",
    "> Discard highest and lowest, \n",
    "> then average remaining 5 scores\n",
    "\n",
    "And the second selection rule (h2) says:\n",
    "> Place item in ascending order,\n",
    "> then pick the middle score\n",
    "\n",
    "And the third selection rule (h3) says:\n",
    "> randomly discard two of the jury scores,\n",
    "> then average remaining 5 scores"
   ]
  },
  {
   "cell_type": "code",
   "execution_count": 11,
   "metadata": {
    "collapsed": true
   },
   "outputs": [],
   "source": [
    "discarded_two = np.random.choice(Y, 5, replace=False)"
   ]
  },
  {
   "cell_type": "code",
   "execution_count": 13,
   "metadata": {
    "collapsed": false
   },
   "outputs": [
    {
     "name": "stdout",
     "output_type": "stream",
     "text": [
      "[ 7.91730422  7.67299151  7.74462891  7.6198692   8.27078464  8.07096531\n",
      "  7.63169182]\n",
      "[ 7.63169182  8.27078464  8.07096531  7.91730422  7.67299151]\n"
     ]
    }
   ],
   "source": [
    "print(Y)\n",
    "print(discarded_two)"
   ]
  },
  {
   "cell_type": "code",
   "execution_count": 15,
   "metadata": {
    "collapsed": true
   },
   "outputs": [],
   "source": [
    "sortData = np.sort(Y)"
   ]
  },
  {
   "cell_type": "code",
   "execution_count": 16,
   "metadata": {
    "collapsed": false
   },
   "outputs": [
    {
     "name": "stdout",
     "output_type": "stream",
     "text": [
      "[ 7.6198692   7.63169182  7.67299151  7.74462891  7.91730422  8.07096531\n",
      "  8.27078464]\n"
     ]
    }
   ],
   "source": [
    "print(sortData)"
   ]
  },
  {
   "cell_type": "code",
   "execution_count": 17,
   "metadata": {
    "collapsed": false
   },
   "outputs": [],
   "source": [
    "middle5 = sortData[1:-1]\n",
    "h1 = np.average(middle5)\n",
    "h2 = sortData[3]\n",
    "h3 = np.average(discarded_two)"
   ]
  },
  {
   "cell_type": "code",
   "execution_count": 18,
   "metadata": {
    "collapsed": false
   },
   "outputs": [
    {
     "name": "stdout",
     "output_type": "stream",
     "text": [
      "[ 7.63169182  7.67299151  7.74462891  7.91730422  8.07096531]\n"
     ]
    }
   ],
   "source": [
    "print(middle5)"
   ]
  },
  {
   "cell_type": "code",
   "execution_count": 19,
   "metadata": {
    "collapsed": false
   },
   "outputs": [
    {
     "name": "stdout",
     "output_type": "stream",
     "text": [
      "7.80751635595\n"
     ]
    }
   ],
   "source": [
    "print(h1)"
   ]
  },
  {
   "cell_type": "code",
   "execution_count": 20,
   "metadata": {
    "collapsed": false
   },
   "outputs": [
    {
     "name": "stdout",
     "output_type": "stream",
     "text": [
      "7.744628911\n"
     ]
    }
   ],
   "source": [
    "print(h2)"
   ]
  },
  {
   "cell_type": "code",
   "execution_count": 21,
   "metadata": {
    "collapsed": false
   },
   "outputs": [
    {
     "name": "stdout",
     "output_type": "stream",
     "text": [
      "7.91274750195\n"
     ]
    }
   ],
   "source": [
    "print(h3)"
   ]
  },
  {
   "cell_type": "markdown",
   "metadata": {},
   "source": [
    "Given the selection rules, we can know look at the deviations from the true score (g = 8)."
   ]
  },
  {
   "cell_type": "code",
   "execution_count": 22,
   "metadata": {
    "collapsed": true
   },
   "outputs": [],
   "source": [
    "T = h1 - g\n",
    "M = h2 - g\n",
    "S = h3 - g"
   ]
  },
  {
   "cell_type": "code",
   "execution_count": 135,
   "metadata": {
    "collapsed": false
   },
   "outputs": [
    {
     "name": "stdout",
     "output_type": "stream",
     "text": [
      "-0.0320741161812\n"
     ]
    }
   ],
   "source": [
    "print(T)"
   ]
  },
  {
   "cell_type": "code",
   "execution_count": 136,
   "metadata": {
    "collapsed": false
   },
   "outputs": [
    {
     "name": "stdout",
     "output_type": "stream",
     "text": [
      "-0.0614277553204\n"
     ]
    }
   ],
   "source": [
    "print(M)"
   ]
  },
  {
   "cell_type": "code",
   "execution_count": 23,
   "metadata": {
    "collapsed": false
   },
   "outputs": [
    {
     "name": "stdout",
     "output_type": "stream",
     "text": [
      "-0.0872524980452\n"
     ]
    }
   ],
   "source": [
    "print(S)"
   ]
  },
  {
   "cell_type": "markdown",
   "metadata": {},
   "source": [
    "Now we can make a decision, which rule is better? Remember $T$ and $M$ are deviations from the true score, so which ever value is closer to zero $(0)$ in absolute should be considered better than the other."
   ]
  },
  {
   "cell_type": "code",
   "execution_count": 24,
   "metadata": {
    "collapsed": true
   },
   "outputs": [],
   "source": [
    "abs_M = abs(M)\n",
    "abs_T = abs(T)\n",
    "abs_S = abs(S)"
   ]
  },
  {
   "cell_type": "code",
   "execution_count": 26,
   "metadata": {
    "collapsed": false
   },
   "outputs": [
    {
     "name": "stdout",
     "output_type": "stream",
     "text": [
      "|M| =  0.255371088997\n",
      "|T| =  0.192483644053\n",
      "|S| =  0.0872524980452\n"
     ]
    }
   ],
   "source": [
    "print('|M| = ', abs_M)\n",
    "print('|T| = ', abs_T)\n",
    "print('|S| = ', abs_S)"
   ]
  },
  {
   "cell_type": "markdown",
   "metadata": {},
   "source": [
    "We have design and built a simulation model, to help in answering the question: which jury rule is better?"
   ]
  },
  {
   "cell_type": "markdown",
   "metadata": {},
   "source": [
    "## Leverage simulations"
   ]
  },
  {
   "cell_type": "code",
   "execution_count": 163,
   "metadata": {
    "collapsed": true
   },
   "outputs": [],
   "source": [
    "nsims = 5000"
   ]
  },
  {
   "cell_type": "code",
   "execution_count": 164,
   "metadata": {
    "collapsed": false
   },
   "outputs": [],
   "source": [
    "Uniform_array = np.random.rand(nsims, 7)\n",
    "Zarray = Uniform_array - 0.5\n",
    "Yarray = g + Zarray\n",
    "discarded_two_array = np.array( [np.random.choice(jury, 5, replace=False) for jury in Yarray])\n",
    "\n",
    "Yarray.sort(axis=1)\n",
    "h2_vec = Yarray[:,3]\n",
    "h1_vec = np.mean( Yarray[:,1:-1], axis=1)\n",
    "h3_vec = np.mean( discarded_two_array[:,1:-1], axis=1)\n",
    "M_vec = h2_vec - g\n",
    "T_vec = h1_vec - g\n",
    "S_vec = h3_vec - g"
   ]
  },
  {
   "cell_type": "code",
   "execution_count": 165,
   "metadata": {
    "collapsed": false
   },
   "outputs": [
    {
     "data": {
      "text/plain": [
       "(0, 0.5)"
      ]
     },
     "execution_count": 165,
     "metadata": {},
     "output_type": "execute_result"
    },
    {
     "data": {
      "image/png": "[encoded data removed]",
      "text/plain": [
       "<matplotlib.figure.Figure at 0x5f6a527208>"
      ]
     },
     "metadata": {},
     "output_type": "display_data"
    }
   ],
   "source": [
    "plt.plot(abs(T_vec), abs(M_vec), 'ro', markersize=2)\n",
    "plt.plot([0,0.5],[0,0.5], 'b-')\n",
    "plt.xlabel('abs T')\n",
    "plt.ylabel('abs M')\n",
    "plt.xlim((0,0.5))\n",
    "plt.ylim((0,0.5))"
   ]
  },
  {
   "cell_type": "markdown",
   "metadata": {},
   "source": [
    "Blue abline in plot above is an indication that T and M are an equal distance away from true 'g' score (Neither is preferred). However, plot has some indication that M has a **larger deviation** from 'g' than does T."
   ]
  },
  {
   "cell_type": "code",
   "execution_count": 166,
   "metadata": {
    "collapsed": false
   },
   "outputs": [
    {
     "data": {
      "text/plain": [
       "(0, 0.5)"
      ]
     },
     "execution_count": 166,
     "metadata": {},
     "output_type": "execute_result"
    },
    {
     "data": {
      "image/png": "[encoded data removed]",
      "text/plain": [
       "<matplotlib.figure.Figure at 0x5f68377cf8>"
      ]
     },
     "metadata": {},
     "output_type": "display_data"
    }
   ],
   "source": [
    "plt.plot(abs(T_vec), abs(S_vec), 'ro', markersize=2)\n",
    "plt.plot([0,0.5],[0,0.5], 'b-')\n",
    "plt.xlabel('abs T')\n",
    "plt.ylabel('abs S')\n",
    "plt.xlim((0,0.5))\n",
    "plt.ylim((0,0.5))"
   ]
  },
  {
   "cell_type": "code",
   "execution_count": 167,
   "metadata": {
    "collapsed": false
   },
   "outputs": [
    {
     "data": {
      "text/plain": [
       "(0, 0.5)"
      ]
     },
     "execution_count": 167,
     "metadata": {},
     "output_type": "execute_result"
    },
    {
     "data": {
      "image/png": "[encoded data removed]",
      "text/plain": [
       "<matplotlib.figure.Figure at 0x5f6a58ca20>"
      ]
     },
     "metadata": {},
     "output_type": "display_data"
    }
   ],
   "source": [
    "plt.plot(abs(S_vec), abs(M_vec), 'ro', markersize=2)\n",
    "plt.plot([0,0.5],[0,0.5], 'b-')\n",
    "plt.xlabel('abs S')\n",
    "plt.ylabel('abs M')\n",
    "plt.xlim((0,0.5))\n",
    "plt.ylim((0,0.5))"
   ]
  },
  {
   "cell_type": "markdown",
   "metadata": {},
   "source": [
    "By increasing the number of simulation we can get better probability estimate. And we can provide an answer to the question: which rule is better."
   ]
  },
  {
   "cell_type": "code",
   "execution_count": 171,
   "metadata": {
    "collapsed": false
   },
   "outputs": [],
   "source": [
    "comparison_array = np.vstack( (np.abs(M_vec), np.abs(T_vec), np.abs(S_vec)) )"
   ]
  },
  {
   "cell_type": "code",
   "execution_count": 172,
   "metadata": {
    "collapsed": false
   },
   "outputs": [],
   "source": [
    "closet_to_zero = np.unique( np.ma.argmin(comparison_array, axis=0), return_counts=True )"
   ]
  },
  {
   "cell_type": "code",
   "execution_count": 173,
   "metadata": {
    "collapsed": false
   },
   "outputs": [
    {
     "name": "stdout",
     "output_type": "stream",
     "text": [
      "(array([0, 1, 2], dtype=int64), array([1146, 2122, 1732], dtype=int64))\n"
     ]
    }
   ],
   "source": [
    "print(closet_to_zero)"
   ]
  },
  {
   "cell_type": "code",
   "execution_count": 174,
   "metadata": {
    "collapsed": false
   },
   "outputs": [],
   "source": [
    "rule_prob = 100* closet_to_zero[1]/ np.sum(closet_to_zero[1])"
   ]
  },
  {
   "cell_type": "code",
   "execution_count": 175,
   "metadata": {
    "collapsed": false
   },
   "outputs": [
    {
     "name": "stdout",
     "output_type": "stream",
     "text": [
      "[ 22.92  42.44  34.64]\n"
     ]
    }
   ],
   "source": [
    "print(rule_prob)"
   ]
  },
  {
   "cell_type": "code",
   "execution_count": 176,
   "metadata": {
    "collapsed": false
   },
   "outputs": [],
   "source": [
    "rule_performance = dict(zip(['M_vec', 'T_vec', 'S_vec'], rule_prob))"
   ]
  },
  {
   "cell_type": "code",
   "execution_count": 177,
   "metadata": {
    "collapsed": false
   },
   "outputs": [],
   "source": [
    "best_rule = max(rule_performance.items(), key=lambda x: x[1])"
   ]
  },
  {
   "cell_type": "code",
   "execution_count": 178,
   "metadata": {
    "collapsed": false
   },
   "outputs": [
    {
     "name": "stdout",
     "output_type": "stream",
     "text": [
      "T_vec rule has the best perfomance of the three (3) rules, coming closet to zero 42.44 percent of the times\n"
     ]
    }
   ],
   "source": [
    "print('{:s} rule has the best perfomance of the three (3) rules, coming closet to zero {} percent of the times'.format(*best_rule) )"
   ]
  },
  {
   "cell_type": "code",
   "execution_count": 179,
   "metadata": {
    "collapsed": false
   },
   "outputs": [
    {
     "name": "stdout",
     "output_type": "stream",
     "text": [
      "{'M_vec': 22.920000000000002, 'S_vec': 34.640000000000001, 'T_vec': 42.439999999999998}\n"
     ]
    }
   ],
   "source": [
    "print(rule_performance)"
   ]
  }
 ],
 "metadata": {
  "kernelspec": {
   "display_name": "Python 3",
   "language": "python",
   "name": "python3"
  },
  "language_info": {
   "codemirror_mode": {
    "name": "ipython",
    "version": 3
   },
   "file_extension": ".py",
   "mimetype": "text/x-python",
   "name": "python",
   "nbconvert_exporter": "python",
   "pygments_lexer": "ipython3",
   "version": "3.5.1"
  }
 },
 "nbformat": 4,
 "nbformat_minor": 0
}
